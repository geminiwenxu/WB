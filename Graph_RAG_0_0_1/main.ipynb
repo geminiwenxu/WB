{
 "cells": [
  {
   "cell_type": "code",
   "execution_count": 6,
   "id": "5483542c",
   "metadata": {},
   "outputs": [],
   "source": [
    "from KG.config import load_neo4j_graph\n",
    "from Vec_RAG import query_vector_rag\n",
    "from Gra_RAG import generate_cypher_query\n",
    "\n",
    "graph = load_neo4j_graph()\n",
    "\n",
    "question = \"What was the battle of Waterloo?\""
   ]
  },
  {
   "cell_type": "code",
   "execution_count": null,
   "id": "19f28093",
   "metadata": {},
   "outputs": [
    {
     "name": "stdout",
     "output_type": "stream",
     "text": [
      "\n",
      "\n",
      "\u001b[1m> Entering new GraphCypherQAChain chain...\u001b[0m\n",
      "Generated Cypher:\n",
      "\u001b[32;1m\u001b[1;3mcypher\n",
      "MATCH (waterloo:Event)-[:HAS_SECTION]->(info:Section)-[:HAS_CHUNK]->(ChunkInfo:Chunk)\n",
      "RETURN waterloo, info, ChunkInfo.text\n",
      "\u001b[0m\n",
      "Full Context:\n",
      "\u001b[32;1m\u001b[1;3m[{'waterloo': {'name': 'Battle_of_Waterloo'}, 'info': {'parent_name': 'Battle_of_Waterloo', 'type': 'Reason'}, 'ChunkInfo.text': 'On 13 March 1815, six days before Napoleon reached Paris, the powers at the Congress of Vienna declared him an outlaw. Four days later, the United Kingdom, Russia, Austria, and Prussia mobilised armies to defeat Napoleon. Critically outnumbered, Napoleon knew that once his attempts at dissuading one or more members of the Seventh Coalition from invading France had failed, his only chance of remaining in power was to attack before the coalition mobilised.\\nHad Napoleon succeeded in destroying the existing coalition forces south of Brussels before they were reinforced, he might have been able to drive the British back to the sea and knock the Prussians out of the war. Crucially, this would have bought him time to recruit and train more men before turning his armies against the Austrians and Russians.'}, {'waterloo': {'name': 'Battle_of_Waterloo'}, 'info': {'parent_name': 'Battle_of_Waterloo', 'type': 'Reason'}, 'ChunkInfo.text': \"An additional consideration for Napoleon was that a French victory might cause French-speaking sympathisers in Belgium to launch a friendly revolution. Also, coalition troops in Belgium were largely second-line, as many units were of dubious quality and loyalty.\\nThe initial dispositions of Wellington, the British commander, were intended to counter the threat of Napoleon enveloping the Coalition armies by moving through Mons to the south-west of Brussels. This would have pushed Wellington closer to the Prussian forces, led by Gebhard Leberecht von BlÃ¼cher, but might have cut Wellington's communications with his base at Ostend. In order to delay Wellington's deployment, Napoleon spread false intelligence which suggested that Wellington's supply chain from the channel ports would be cut.\"}, {'waterloo': {'name': 'Battle_of_Waterloo'}, 'info': {'parent_name': 'Battle_of_Waterloo', 'type': 'Reason'}, 'ChunkInfo.text': 'By June, Napoleon had raised a total army strength of about 300,000 men. The force at his disposal at Waterloo was less than one third that size, but the rank and file were mostly loyal and experienced soldiers. Napoleon divided his army into a left wing commanded by Marshal Ney, a right wing commanded by Marshal Grouchy and a reserve under his command (although all three elements remained close enough to support one another). Crossing the frontier near Charleroi before dawn on 15 June, the French rapidly overran Coalition outposts, securing Napoleon\\'s \"central position\" between Wellington\\'s and BlÃ¼cher\\'s armies. He hoped this would prevent them from combining, and he would be able to destroy first the Prussian army, then Wellington\\'s.'}, {'waterloo': {'name': 'Battle_of_Waterloo'}, 'info': {'parent_name': 'Battle_of_Waterloo', 'type': 'Reason'}, 'ChunkInfo.text': \"Only very late on the night of 15 June was Wellington certain that the Charleroi attack was the main French thrust. In the early hours of 16 June, at the Duchess of Richmond's ball in Brussels, he received a dispatch from the Prince of Orange and was shocked by the speed of Napoleon's advance. He hastily ordered his army to concentrate on Quatre Bras, where the Prince of Orange, with the brigade of Prince Bernhard of Saxe-Weimar, was holding a tenuous position against the soldiers of Ney's left wing. Prince Bernhard and General Perponcher were by all accounts better informed of the French advance than other allied officials and their later initiatives to hold the cross roads proved vital for the outcome. General Constant de Rebeque, commander of one of the Dutch divisions, disobeyed Wellingtonâ€™s orders to march to his previous chosen concentration area around Nivelles, and decided to hold the crossroads and send urgent messages to the prince and Perponcher. This fact shows how\"}, {'waterloo': {'name': 'Battle_of_Waterloo'}, 'info': {'parent_name': 'Battle_of_Waterloo', 'type': 'Reason'}, 'ChunkInfo.text': 'concentration area around Nivelles, and decided to hold the crossroads and send urgent messages to the prince and Perponcher. This fact shows how little Wellington believed in a fast French advance towards Brussels. He did not believe in recent intelligence given to him by General DÃ¶rnberg, one of his intelligence officials warning him of numerous French outposts south of Charleroi as well as some reports sent by the intelligence of the Prussian 1st corps. Had these two generals obeyed his orders, Quatre-Bras in all probablity would have fallen to the French giving them time to support Napoleons attack on the Prussians in the Sombreffe area via the fast, cobbled road, and the history of the campaign would have been significantly different.'}, {'waterloo': {'name': 'Battle_of_Waterloo'}, 'info': {'parent_name': 'Battle_of_Waterloo', 'type': 'Reason'}, 'ChunkInfo.text': \"Ney's orders were to secure the crossroads of Quatre Bras so that he could later swing east and reinforce Napoleon if necessary. Ney found the crossroads lightly held by the Prince of Orange, who repelled Ney's initial attacks but was gradually driven back by overwhelming numbers of French troops in the Battle of Quatre Bras. First reinforcements, and then Wellington arrived. He took command and drove Ney back, securing the crossroads by early evening, too late to send help to the Prussians, who had already been defeated.\"}, {'waterloo': {'name': 'Battle_of_Waterloo'}, 'info': {'parent_name': 'Battle_of_Waterloo', 'type': 'Reason'}, 'ChunkInfo.text': \"Meanwhile, on 16 June, Napoleon attacked and defeated BlÃ¼cher at the Battle of Ligny, using part of the reserve and the right wing of his army. The Prussian centre gave way under heavy French assaults, but the flanks held their ground. The Prussian retreat from Ligny went uninterrupted and seemingly unnoticed by the French. The bulk of their rearguard units held their positions until about midnight, and some elements did not move out until the following morning, ignored by the French.\\nCrucially, the Prussians did not retreat to the east, along their own lines of communication. Instead, they, too, fell back northwardsâ€”parallel to Wellington's line of march, still within supporting distance and in communication with him throughout. The Prussians rallied on BÃ¼low's IV Corps, which had not been engaged at Ligny and was in a strong position south of Wavre.\"}, {'waterloo': {'name': 'Battle_of_Waterloo'}, 'info': {'parent_name': 'Battle_of_Waterloo', 'type': 'Reason'}, 'ChunkInfo.text': \"With the Prussian retreat from Ligny, Wellington's position at Quatre Bras was untenable. The next day he withdrew northwards, to a defensive position that he had reconnoitred the previous yearâ€”the low ridge of Mont-Saint-Jean, south of the village of Waterloo and the Sonian Forest.\\nNapoleon, with the reserves, made a late start on 17 June and joined Ney at Quatre Bras at 13:00 to attack Wellington's army but found the position empty. The French pursued Wellington's retreating army to Waterloo; however, due to bad weather, mud and the head start that Napoleon's tardy advance had allowed Wellington, there was no substantial engagement, apart from a cavalry action at Genappe.\"}, {'waterloo': {'name': 'Battle_of_Waterloo'}, 'info': {'parent_name': 'Battle_of_Waterloo', 'type': 'Reason'}, 'ChunkInfo.text': \"Before leaving Ligny, Napoleon had ordered Grouchy, who commanded the right wing, to follow the retreating Prussians with 33,000 men. A late start, uncertainty about the direction the Prussians had taken, and the vagueness of the orders given to him meant that Grouchy was too late to prevent the Prussian army reaching Wavre, from where it could march to support Wellington. More importantly, the heavily outnumbered Prussian rearguard was able to use the River Dyle to fight a savage and prolonged action to delay Grouchy.\\nAs 17 June drew to a close, Wellington's army had arrived at its position at Waterloo, with the main body of Napoleon's army in pursuit. BlÃ¼cher's army was gathering in and around Wavre, around 8 miles (13Â\\xa0km) to the east of the town. Early the next morning, Wellington received an assurance from BlÃ¼cher that the Prussian army would support him. He decided to hold his ground and give battle.\"}, {'waterloo': {'name': 'Battle_of_Waterloo'}, 'info': {'parent_name': 'Battle_of_Waterloo', 'type': 'Combatant'}, 'ChunkInfo.text': \"Wellington rose at around 02:00 or 03:00 on 18 June, and wrote letters until dawn. He had earlier written to BlÃ¼cher confirming that he would give battle at Mont-Saint-Jean if BlÃ¼cher could provide him with at least one corps; otherwise he would retreat towards Brussels. At a late-night council, BlÃ¼cher's chief of staff, August Neidhardt von Gneisenau, had been distrustful of Wellington's strategy, but BlÃ¼cher persuaded him that they should march to join Wellington's army. In the morning Wellington duly received a reply from BlÃ¼cher, promising to support him with three corps.\"}]\u001b[0m\n",
      "\n",
      "\u001b[1m> Finished chain.\u001b[0m\n",
      "The battle of Waterloo happened because the powers at the\n",
      "Congress of Vienna declared Napoleon an outlaw. The United\n",
      "Kingdom, Russia, Austria, and Prussia mobilised armies to\n",
      "defeat Napoleon. Napoleon knew that his only chance of\n",
      "remaining in power was to attack before the coalition\n",
      "mobilised. Napoleon hoped to destroy the existing coalition\n",
      "forces south of Brussels before they were reinforced, drive\n",
      "the British back to the sea and knock the Prussians out of\n",
      "the war so he could buy time to recruit and train more men\n",
      "before turning his armies against the Austrians and\n",
      "Russians. Also, a French victory might cause French-speaking\n",
      "sympathisers in Belgium to launch a friendly revolution.\n",
      "Coalition troops in Belgium were largely second-line, and\n",
      "many units were of dubious quality and loyalty. Wellington\n",
      "intended to counter the threat of Napoleon enveloping the\n",
      "Coalition armies by moving through Mons to the south-west of\n",
      "Brussels, pushing Wellington closer to the Prussian forces,\n",
      "but might have cut Wellington's communications with his base\n",
      "at Ostend. Napoleon spread false intelligence which\n",
      "suggested that Wellington's supply chain from the channel\n",
      "ports would be cut in order to delay Wellington's\n",
      "deployment. Napoleon divided his army into a left wing\n",
      "commanded by Marshal Ney, a right wing commanded by Marshal\n",
      "Grouchy and a reserve under his command and hoped to prevent\n",
      "Wellington and BlÃ¼cher from combining, and he would be able\n",
      "to destroy first the Prussian army, then Wellington's. Only\n",
      "very late on the night of 15 June was Wellington certain\n",
      "that the Charleroi attack was the main French thrust and\n",
      "hastily ordered his army to concentrate on Quatre Bras.\n",
      "Ney's orders were to secure the crossroads of Quatre Bras so\n",
      "that he could later swing east and reinforce Napoleon if\n",
      "necessary. Meanwhile, on 16 June, Napoleon attacked and\n",
      "defeated BlÃ¼cher at the Battle of Ligny. The Prussian\n",
      "retreat from Ligny went uninterrupted and seemingly\n",
      "unnoticed by the French and retreated northwardsâ€”parallel\n",
      "to Wellington's line of march, still within supporting\n",
      "distance and in communication with him throughout. With the\n",
      "Prussian retreat from Ligny, Wellington's position at Quatre\n",
      "Bras was untenable and withdrew northwards, to a defensive\n",
      "position that he had reconnoitred the previous yearâ€”the\n",
      "low ridge of Mont-Saint-Jean, south of the village of\n",
      "Waterloo and the Sonian Forest. Before leaving Ligny,\n",
      "Napoleon had ordered Grouchy to follow the retreating\n",
      "Prussians. A late start, uncertainty about the direction the\n",
      "Prussians had taken, and the vagueness of the orders given\n",
      "to him meant that Grouchy was too late to prevent the\n",
      "Prussian army reaching Wavre, from where it could march to\n",
      "support Wellington. As 17 June drew to a close, Wellington's\n",
      "army had arrived at its position at Waterloo, with the main\n",
      "body of Napoleon's army in pursuit. Early the next morning,\n",
      "Wellington received an assurance from BlÃ¼cher that the\n",
      "Prussian army would support him and decided to hold his\n",
      "ground and give battle.\n"
     ]
    }
   ],
   "source": [
    "########## Graph RAG ###########\n",
    "# Graph search runs exclusively via Cypher on labels/relationships/properties.\n",
    "GraphRAG = generate_cypher_query(graph=graph, question=question)\n",
    "print(GraphRAG)"
   ]
  },
  {
   "cell_type": "code",
   "execution_count": null,
   "id": "8873e10d",
   "metadata": {},
   "outputs": [
    {
     "name": "stderr",
     "output_type": "stream",
     "text": [
      "c:\\Users\\leonu\\Desktop\\Dokumente\\Research\\Graph_RAG\\.venv\\Lib\\site-packages\\vertexai\\_model_garden\\_model_garden_models.py:278: UserWarning: This feature is deprecated as of June 24, 2025 and will be removed on June 24, 2026. For details, see https://cloud.google.com/vertex-ai/generative-ai/docs/deprecations/genai-vertexai-sdk.\n",
      "  warning_logs.show_deprecation_warning()\n"
     ]
    },
    {
     "name": "stdout",
     "output_type": "stream",
     "text": [
      "I am sorry, but the context provided does not contain any\n",
      "information about Napoleon. Therefore, I cannot answer your\n",
      "question.\n"
     ]
    }
   ],
   "source": [
    "########## Vector RAG ###########\n",
    "\n",
    "vector_index_name = 'Chunk'\n",
    "vector_node_label = 'Chunk'\n",
    "vector_source_property = 'text'\n",
    "vector_embedding_property = 'VertexAIEmbedding'\n",
    "\n",
    "Vector_RAG = query_vector_rag(\n",
    "    question=question,\n",
    "    vector_index_name=vector_index_name,\n",
    "    vector_node_label=vector_node_label,\n",
    "    vector_source_property=vector_source_property,\n",
    "    vector_embedding_property=vector_embedding_property\n",
    ")\n",
    "\n",
    "print(Vector_RAG)\n"
   ]
  }
 ],
 "metadata": {
  "kernelspec": {
   "display_name": ".venv",
   "language": "python",
   "name": "python3"
  },
  "language_info": {
   "codemirror_mode": {
    "name": "ipython",
    "version": 3
   },
   "file_extension": ".py",
   "mimetype": "text/x-python",
   "name": "python",
   "nbconvert_exporter": "python",
   "pygments_lexer": "ipython3",
   "version": "3.13.7"
  }
 },
 "nbformat": 4,
 "nbformat_minor": 5
}
